{
 "cells": [
  {
   "cell_type": "code",
   "execution_count": null,
   "metadata": {},
   "outputs": [],
   "source": [
    "import easyocr\n",
    "import cv2\n",
    "import data_loader\n",
    "import torch\n",
    "from pathlib import Path\n",
    "reader = easyocr.Reader(['en'])\n",
    "from torchvision.transforms import v2 as transforms\n",
    "from torchvision.transforms import functional as F\n",
    "import numpy as np\n",
    "import matplotlib.pyplot as plt\n",
    "from PIL import Image\n",
    "from torchvision.utils import draw_bounding_boxes\n",
    "import ipywidgets as widgets\n",
    "from IPython.display import display"
   ]
  },
  {
   "cell_type": "code",
   "execution_count": null,
   "metadata": {},
   "outputs": [],
   "source": []
  },
  {
   "cell_type": "code",
   "execution_count": null,
   "metadata": {},
   "outputs": [],
   "source": [
    "img = cv2.imread(r'C:\\Senior_Project\\Repo\\Senior-Project\\src\\mbrimberry_files\\Submissions\\03 11 2024\\Activity  478050 - 03 11 2024\\Desk Images\\desk_1.png')"
   ]
  },
  {
   "cell_type": "code",
   "execution_count": null,
   "metadata": {},
   "outputs": [],
   "source": [
    "r90img = cv2.rotate(img, cv2.ROTATE_90_COUNTERCLOCKWISE)\n",
    "results = reader.readtext(img)\n",
    "print(results)\n",
    "results = reader.readtext(r90img)\n",
    "print(results)"
   ]
  },
  {
   "cell_type": "code",
   "execution_count": null,
   "metadata": {},
   "outputs": [],
   "source": [
    "# Defines the path to the folder with data in it\n",
    "train_dir = Path(\"mbrimberry_files\\Submissions\")"
   ]
  },
  {
   "cell_type": "code",
   "execution_count": null,
   "metadata": {},
   "outputs": [],
   "source": [
    "# Makes transforms and loads the datasets form the directories\n",
    "trans = transforms.Compose(\n",
    "    [\n",
    "        transforms.ToImage(),\n",
    "        transforms.ToDtype(torch.float32, scale=True),\n",
    "        transforms.Resize(size=(1056,816))\n",
    "    ])\n",
    "desk_data = data_loader.IndividualIMGDataset(targ_dir=train_dir,transform=trans, type = \"desk\")\n",
    "packet_data = data_loader.IndividualIMGDataset(targ_dir=train_dir,transform=trans,type = \"packet\")\n",
    "caddy_data = data_loader.IndividualIMGDataset(targ_dir=train_dir,transform=trans,type = \"caddy\")"
   ]
  },
  {
   "cell_type": "code",
   "execution_count": null,
   "metadata": {},
   "outputs": [],
   "source": []
  },
  {
   "cell_type": "code",
   "execution_count": null,
   "metadata": {},
   "outputs": [],
   "source": [
    "results[0][2]"
   ]
  },
  {
   "cell_type": "code",
   "execution_count": null,
   "metadata": {},
   "outputs": [],
   "source": [
    "numpy_img = desk_data[95][0].cpu().numpy()\n",
    "numpy_img = np.transpose(numpy_img,(1,2,0))\n",
    "numpy_img = (numpy_img * 255).astype(np.uint8)\n",
    "r90img = cv2.rotate(numpy_img, cv2.ROTATE_90_COUNTERCLOCKWISE)\n",
    "results = reader.readtext(r90img,text_threshold=0.7,allowlist='0123456789')\n",
    "# print(results)\n",
    "# plt.imshow(r90img)\n",
    "# plt.title(\"Cropped Image\")\n",
    "# plt.show()\n",
    "bbox = []\n",
    "for result in results:\n",
    "    if result[2] > 0.50:\n",
    "        print(result)\n",
    "        bbox.append((result[0][0][0],result[0][0][1],result[0][2][0],result[0][2][1]))\n",
    "t_bbox = torch.tensor(bbox)\n",
    "chw_image = np.transpose(r90img, (2, 0, 1))\n",
    "tensor_image = torch.from_numpy(chw_image)\n",
    "if len(t_bbox) > 0:\n",
    "    the_box = draw_bounding_boxes(tensor_image,t_bbox,width=5)\n",
    "else:\n",
    "    the_box = tensor_image\n",
    "image_permute = the_box.permute(1,2,0)\n",
    "plt.imshow(image_permute)\n",
    "plt.title(\"EasyOCR Images\")\n",
    "plt.show()"
   ]
  },
  {
   "cell_type": "code",
   "execution_count": null,
   "metadata": {},
   "outputs": [],
   "source": [
    "def display_dataset_crop(index):\n",
    "    numpy_img = desk_data[index][0].cpu().numpy()\n",
    "    numpy_img = np.transpose(numpy_img,(1,2,0))\n",
    "    numpy_img = (numpy_img * 255).astype(np.uint8)\n",
    "    r90img = cv2.rotate(numpy_img, cv2.ROTATE_90_COUNTERCLOCKWISE)\n",
    "    results = reader.readtext(r90img,text_threshold=0.7,allowlist='0123456789')\n",
    "    bbox = []\n",
    "    for result in results:\n",
    "        if result[2] > 0.50:\n",
    "            print(result)\n",
    "            bbox.append((result[0][0][0],result[0][0][1],result[0][2][0],result[0][2][1]))\n",
    "    if not len(bbox) == 0:\n",
    "        t_bbox = torch.tensor(bbox)\n",
    "        chw_image = np.transpose(r90img, (2, 0, 1))\n",
    "        tensor_image = torch.from_numpy(chw_image)\n",
    "        the_box = draw_bounding_boxes(tensor_image,t_bbox,width=5)\n",
    "        image_permute = the_box.permute(1,2,0)\n",
    "        plt.imshow(image_permute)\n",
    "    else:\n",
    "        plt.imshow(r90img)\n",
    "    plt.title(\"Desk Image\")\n",
    "    plt.show()\n",
    "\n",
    "# Slider widget (use the slider below)\n",
    "slider = widgets.IntText(value=0, min=0, max=len(desk_data)-1, step=1, description='Index:')\n",
    "widgets.interactive(display_dataset_crop, index=slider)"
   ]
  },
  {
   "cell_type": "code",
   "execution_count": null,
   "metadata": {},
   "outputs": [],
   "source": [
    "results[0][1]"
   ]
  },
  {
   "cell_type": "markdown",
   "metadata": {},
   "source": [
    "### Reading Cropped"
   ]
  },
  {
   "cell_type": "code",
   "execution_count": null,
   "metadata": {},
   "outputs": [],
   "source": [
    "cropped = data_loader.CropBox(desk_data[11][0],desk_data[11][1]['boxes'][0])\n",
    "\n",
    "cropped_permute = cropped.permute(1,2,0)\n",
    "plt.imshow(cropped_permute)\n",
    "plt.title(\"Cropped Image\")\n",
    "plt.show()"
   ]
  },
  {
   "cell_type": "code",
   "execution_count": null,
   "metadata": {},
   "outputs": [],
   "source": [
    "import numpy as np\n",
    "numpy_cropped = cropped.cpu().numpy()\n",
    "numpy_cropped = np.transpose(numpy_cropped,(1,2,0))\n",
    "numpy_cropped = (numpy_cropped * 255).astype(np.uint8)\n"
   ]
  },
  {
   "cell_type": "code",
   "execution_count": null,
   "metadata": {},
   "outputs": [],
   "source": [
    "results = reader.readtext(numpy_cropped)\n",
    "print(results)\n",
    "plt.imshow(numpy_cropped)\n",
    "plt.title(\"Cropped Image\")\n",
    "plt.show()"
   ]
  },
  {
   "cell_type": "code",
   "execution_count": null,
   "metadata": {},
   "outputs": [],
   "source": [
    "r90npimg = cv2.rotate(numpy_cropped, cv2.ROTATE_90_CLOCKWISE)\n",
    "results = reader.readtext(r90npimg)\n",
    "print(results)\n",
    "plt.imshow(r90npimg)\n",
    "plt.title(\"Cropped Image\")\n",
    "plt.show()"
   ]
  },
  {
   "cell_type": "code",
   "execution_count": null,
   "metadata": {},
   "outputs": [],
   "source": [
    "r180npimg = cv2.rotate(r90npimg, cv2.ROTATE_90_CLOCKWISE)\n",
    "results = reader.readtext(r180npimg)\n",
    "print(results)\n",
    "plt.imshow(r180npimg)\n",
    "plt.title(\"Cropped Image\")\n",
    "plt.show()"
   ]
  },
  {
   "cell_type": "code",
   "execution_count": null,
   "metadata": {},
   "outputs": [],
   "source": [
    "r270npimg = cv2.rotate(r180npimg, cv2.ROTATE_90_CLOCKWISE)\n",
    "results = reader.readtext(r270npimg)\n",
    "print(results)\n",
    "plt.imshow(r270npimg)\n",
    "plt.title(\"Cropped Image\")\n",
    "plt.show()"
   ]
  }
 ],
 "metadata": {
  "kernelspec": {
   "display_name": "torchCUDA",
   "language": "python",
   "name": "python3"
  },
  "language_info": {
   "codemirror_mode": {
    "name": "ipython",
    "version": 3
   },
   "file_extension": ".py",
   "mimetype": "text/x-python",
   "name": "python",
   "nbconvert_exporter": "python",
   "pygments_lexer": "ipython3",
   "version": "3.11.9"
  }
 },
 "nbformat": 4,
 "nbformat_minor": 2
}
